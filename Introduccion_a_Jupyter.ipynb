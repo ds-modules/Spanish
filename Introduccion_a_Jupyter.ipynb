{
 "cells": [
  {
   "cell_type": "markdown",
   "metadata": {},
   "source": [
    "# [Laboratorio 1] Introducción al Cuaderno Jupyter\n",
    "\n",
    "<br>\n",
    "\n",
    "**Instructor(a):** \n",
    "\n",
    "**Desarrollado Por:** Elías Saravia\n",
    "\n",
    "Estimado Tiempo: 45 minutos"
   ]
  },
  {
   "cell_type": "markdown",
   "metadata": {},
   "source": [
    "Bienvenido a su primer laboratorio! Te mostraremos paso por pas unos útiles para análisis de los datos que necesitarás para análisar un dato. Aprenderás unas habilidades de programación, como importar y manipular una tabla, y como trazar unos gráficos para convertir números a visualizaciones. No te preocupes en memorizando todo el material en este cuaderno -- te proveeremos un acordeón para referir al final del cuaderno."
   ]
  },
  {
   "cell_type": "markdown",
   "metadata": {},
   "source": [
    "## El Cuaderno Jupyter\n",
    "\n",
    "Primero, nota que esta página es dividio entre lo que se llama **celdas**. Puedes navegar entre las celdas haziendo clic en ellas o usando los arriba y abajo flechas en los botones arriba. Las celdas resaltaran mientras navegas."
   ]
  },
  {
   "cell_type": "markdown",
   "metadata": {},
   "source": [
    "### Markdown Cells (Celdas de Texto)\n",
    "\n",
    "Las **celdas de texto** (como estas) pueden ser corregido por haziendo clic dos veces en ellas. Estan escribido in un formato llamdo **\"Markdown Cell\"** o **\"Celda de Anotación\"** para agregar el formateo y cabeceras de secciónes. No necesitas aprender de Markdown Cells, per es importante entender la differencia entra celdas de texto y celdas de codigo."
   ]
  },
  {
   "cell_type": "markdown",
   "metadata": {},
   "source": [
    "### Code Cells (Celdas de Codigo)\n",
    "\n",
    "Otras celdas contienen codigo en la lenguaje de programación, Python 3. No te preocupes -- te enseñaremos todo lo necesario para triunfar en esta parte del curso.\n",
    "\n",
    "La parte fundamental de programando en Python es una **expresión**. Celdas pueden contener varios líneas con various expresiónes. Explicaremos exactamente lo que queremos decir con expresiónes en un momento. Primero, aprendemos como **\"run a cell\"** o **ejecutar una celda**."
   ]
  },
  {
   "cell_type": "markdown",
   "metadata": {},
   "source": [
    "### Running Cells (Ejecutando Celdas)\n",
    "\n",
    "**\"Running a cell\"** o **\"Ejecutando una celda\"** equivale a oprimiendo `Enter` en una calculadora cuando quieres evaluar una expresión: produce una salida. Cuando ejecutas una celda de texto, sale limpio y organizado escritura. Cuando ejecutas una celda de codigo, calcula todas las expresiónes que quieres evaluar y produce un resultado de la computación.\n",
    "\n",
    "Para ejecutar el codigo en la celda de codigo, primero haz clic en la celda para activarlo. Será resaldado con un verde o azul rectangulo. Despues puedes oprimir el `▶ Run` botón arriba o puedes oprimir `Shift + Return` o `Shift + Enter`. Esto ejecutará la celda actual y seleccionará la proxima. \n",
    "\n",
    "Celdas de texto son útiles para tomar nota y mantener el cuaderno organizado, pero tu análisis de dato ser hará en las celdas de codigo. Nos enfocaremos en las celdas de codigo por el resto del clase."
   ]
  },
  {
   "cell_type": "markdown",
   "metadata": {},
   "source": [
    "## Expresiones\n",
    "\n",
    "Una **expresión** es una combinación de números, variables, operadores, y otros elementos de Python que la lenguaje puede intrepretar y actuar en. Expresiones actuan como un serie de instrucciones para seguir, con la meta de generar resultados específicos.\n",
    "\n",
    "Puedes empezar a pensar en celdas de codigo como calculadoras inteligentes que calculan estas expresiones. Por ejemplo, celdas de codigo puede evaluar aritméticas simples:"
   ]
  },
  {
   "cell_type": "code",
   "execution_count": 3,
   "metadata": {},
   "outputs": [
    {
     "data": {
      "text/plain": [
       "20"
      ]
     },
     "execution_count": 3,
     "metadata": {},
     "output_type": "execute_result"
    }
   ],
   "source": [
    "# Ejecuta esta celda\n",
    "# Esta es una expresión\n",
    "10 + 10"
   ]
  },
  {
   "cell_type": "code",
   "execution_count": 4,
   "metadata": {},
   "outputs": [
    {
     "data": {
      "text/plain": [
       "4.0"
      ]
     },
     "execution_count": 4,
     "metadata": {},
     "output_type": "execute_result"
    }
   ],
   "source": [
    "# Ejecuta esta celda\n",
    "# Esta tambien es una expresión\n",
    "(10 + 10) / 5"
   ]
  },
  {
   "cell_type": "markdown",
   "metadata": {},
   "source": [
    "## Variables\n",
    "\n",
    "Pero el punto de programmando es que puedes guardar las salidas para usar mas luego sin computandolo otra vez. Para hacer esto, establecemos **variables** a valores! Como en el curso de algebra, puedes asignar la letra `x` al número `10` y la letra `y` al número `5`. Al final, puedes sumar los variables `x` y `y` para obtener `15`.\n",
    "\n",
    "Puedes tratar esto en las celdas debajo:"
   ]
  },
  {
   "cell_type": "code",
   "execution_count": 5,
   "metadata": {},
   "outputs": [],
   "source": [
    "# Nada sale aquí, solamente dices al celda que asigna x a 10\n",
    "x = 10"
   ]
  },
  {
   "cell_type": "code",
   "execution_count": 6,
   "metadata": {},
   "outputs": [],
   "source": [
    "y = 5"
   ]
  },
  {
   "cell_type": "code",
   "execution_count": 7,
   "metadata": {},
   "outputs": [
    {
     "data": {
      "text/plain": [
       "15"
      ]
     },
     "execution_count": 7,
     "metadata": {},
     "output_type": "execute_result"
    }
   ],
   "source": [
    "# Aquí hace la computación\n",
    "x + y"
   ]
  },
  {
   "cell_type": "markdown",
   "metadata": {},
   "source": [
    "Puedes redefinir variables que has usada antes para detener nuevos valores. En otras palabras, reemplacé los valores anterior. Si ejecutas las celdas debajo, `x` y `y` tendrán valores diferentes:"
   ]
  },
  {
   "cell_type": "code",
   "execution_count": 8,
   "metadata": {},
   "outputs": [
    {
     "data": {
      "text/plain": [
       "11"
      ]
     },
     "execution_count": 8,
     "metadata": {},
     "output_type": "execute_result"
    }
   ],
   "source": [
    "# Puedes poner todas las expresiones arriba en una celda.\n",
    "# Cuando ejecutas la celda debajo, todo será evaluado en orden, de arriba a abajo\n",
    "x = 3\n",
    "y = 8\n",
    "x + y"
   ]
  },
  {
   "cell_type": "markdown",
   "metadata": {},
   "source": [
    "En el curso de álgebra, estabas limitado en usando letras del alfabeto para nombres de variables. Aqui, puedes usar cualquier combinaciòn de palabras mientras no hay espacios entre las palabras:"
   ]
  },
  {
   "cell_type": "code",
   "execution_count": 9,
   "metadata": {},
   "outputs": [
    {
     "data": {
      "text/plain": [
       "4"
      ]
     },
     "execution_count": 9,
     "metadata": {},
     "output_type": "execute_result"
    }
   ],
   "source": [
    "ejemplo = 4\n",
    "ejemplo"
   ]
  },
  {
   "cell_type": "code",
   "execution_count": 10,
   "metadata": {},
   "outputs": [
    {
     "data": {
      "text/plain": [
       "236"
      ]
     },
     "execution_count": 10,
     "metadata": {},
     "output_type": "execute_result"
    }
   ],
   "source": [
    "otro_ejemplo = 236\n",
    "otro_ejemplo"
   ]
  },
  {
   "cell_type": "markdown",
   "metadata": {},
   "source": [
    "Variables son asignados a un valor. Esto significa que todo en el lado derecha de el signo de igualdad es evaluado primero y guardado como un variable despues:"
   ]
  },
  {
   "cell_type": "code",
   "execution_count": 11,
   "metadata": {},
   "outputs": [
    {
     "data": {
      "text/plain": [
       "12"
      ]
     },
     "execution_count": 11,
     "metadata": {},
     "output_type": "execute_result"
    }
   ],
   "source": [
    "# Nota que \"y\" es la misma valor de antes\n",
    "# ejemplo + y equivale 12\n",
    "# 12 is asignado al variable \"respuesta\"\n",
    "\n",
    "respuesta_arriba = ejemplo + y\n",
    "respuesta_arriba"
   ]
  },
  {
   "cell_type": "markdown",
   "metadata": {},
   "source": [
    "### Pregunta #1\n",
    "\n",
    "Qué es la respuesta de \"2 multiplicado por ejemplo más respuesta_arriba\"? Despues averigüe si tu respuesta es correcto.\n",
    "\n",
    "**Pista:** El asterisco * es usado para el signo de multiplicación"
   ]
  },
  {
   "cell_type": "code",
   "execution_count": 12,
   "metadata": {},
   "outputs": [],
   "source": [
    "# Calcularlo en esta celda"
   ]
  },
  {
   "cell_type": "markdown",
   "metadata": {},
   "source": [
    "## Variables y Strings\n",
    "\n",
    "Necesitamos ser cuidados trabajando con palabras en una celda de codigo. Palabras llevan diferentes significados y utilizaciónes cuando están en comillas o comilla dobles.\n",
    "\n",
    "Cuando palabras están en comillas, a menudo significan un tipo de identificación. En este laboratorio, utilizaríais la identificación para especificar una columna in una tabla. Si una palabra está en comillas, Python intrepreta esto como un nombre de algo. Por ejemplo, si una tabla tiene una columna nombrada \"Nombres\", puedemos pedir por la columna \"Nombres\" y el dato dentro de la columna. Entonces, palabras en comillas son un tipo de dato llamado **string**."
   ]
  },
  {
   "cell_type": "code",
   "execution_count": 13,
   "metadata": {},
   "outputs": [
    {
     "data": {
      "text/plain": [
       "123"
      ]
     },
     "execution_count": 13,
     "metadata": {},
     "output_type": "execute_result"
    }
   ],
   "source": [
    "# La salida es un número\n",
    "123"
   ]
  },
  {
   "cell_type": "code",
   "execution_count": 14,
   "metadata": {},
   "outputs": [
    {
     "data": {
      "text/plain": [
       "'Hola'"
      ]
     },
     "execution_count": 14,
     "metadata": {},
     "output_type": "execute_result"
    }
   ],
   "source": [
    "# La salida es un string\n",
    "\"Hola\""
   ]
  },
  {
   "cell_type": "code",
   "execution_count": 15,
   "metadata": {},
   "outputs": [
    {
     "data": {
      "text/plain": [
       "'Hola, Mundo'"
      ]
     },
     "execution_count": 15,
     "metadata": {},
     "output_type": "execute_result"
    }
   ],
   "source": [
    "# Esto tambien es un string\n",
    "\"Hola, Mundo\""
   ]
  },
  {
   "cell_type": "markdown",
   "metadata": {},
   "source": [
    "Qué pasaría si intentamos esribir una palabra aleatorio en una celda de codigo sin poner comillas?"
   ]
  },
  {
   "cell_type": "code",
   "execution_count": 16,
   "metadata": {},
   "outputs": [
    {
     "ename": "NameError",
     "evalue": "name 'Bienvenido' is not defined",
     "output_type": "error",
     "traceback": [
      "\u001b[0;31m---------------------------------------------------------------------------\u001b[0m",
      "\u001b[0;31mNameError\u001b[0m                                 Traceback (most recent call last)",
      "\u001b[0;32m<ipython-input-16-8062adad1b19>\u001b[0m in \u001b[0;36m<module>\u001b[0;34m\u001b[0m\n\u001b[1;32m      1\u001b[0m \u001b[0;31m# Esto es un error\u001b[0m\u001b[0;34m\u001b[0m\u001b[0;34m\u001b[0m\u001b[0;34m\u001b[0m\u001b[0m\n\u001b[0;32m----> 2\u001b[0;31m \u001b[0mBienvenido\u001b[0m\u001b[0;34m\u001b[0m\u001b[0;34m\u001b[0m\u001b[0m\n\u001b[0m",
      "\u001b[0;31mNameError\u001b[0m: name 'Bienvenido' is not defined"
     ]
    }
   ],
   "source": [
    "# Esto es un error\n",
    "Bienvenido"
   ]
  },
  {
   "cell_type": "markdown",
   "metadata": {},
   "source": [
    "Porque nos da un error? El razón es que las celdas de codigo piensan en términos de matemáticas y cualquier palabra sin comilla es considerado un variable que almacena información o significa algo. En este cuaderno, la computadora no sabe que significa `Bienvendio` -- es una variable vacío sin información. Entonces, la computadora se queja y dice, \"No entiendo que Bienvenido es.\" \n",
    "\n",
    "Por ejemplo, en un examen de álgebra dices: \"la respuesta es x.\" Y un maestro te puede escribir de regreso \"y que es x, exactamente?\" Esto es basicamente lo que esta pasando con la computadora en este cuaderno."
   ]
  },
  {
   "cell_type": "markdown",
   "metadata": {},
   "source": [
    "### Definiendo Funciones\n",
    "\n",
    "**Funciones** son útiles cuando necesitas repetir pasos o aplicar un método muchas veces en diferentes escenarios. Nos ayuda guardar tiempo en escribiendo la misma cosa muchas veces. Muchas funciones ya son hechos en Python como manipulando tablas que verás más tarde en este laboratorio. También puedes hacer tus propias funciones. No vas a definirlas, pero es imporante saber como funcionan.\n",
    "\n",
    "Funciones llevan parámetros (o entradas) que definan los objectos utilizando para la computación o ejecutación.\n",
    "\n",
    "Vamos a decoponer un ejemplo de una función llamado `sumar_dos` debajo:\n",
    "\n",
    "- `def` (corto para \"define\" o definar) siempre usas para empezar o declarar una función\n",
    "- `sumar_dos` es el nombre de la función\n",
    "- el `número` dentro del paréntesis es el parámetro para la función\n",
    "- el texto rojo en comillas triples (o **docstring**) nos dice como usar la función como un manual de instrucciones\n",
    "- La expresión a lado del `return` al final es lo que sale de la función\n",
    "\n",
    "Ahora que sabes la estructura de una función, aqui es como debes de leer un **docstring**:\n",
    "\n",
    "- Parámetros nos dice los detalles sobre que pasa dentro de la función\n",
    "- `Returns` nos dice la salida o devolución de valores de la función\n",
    "- `Ejemplo` es un ejemplo de como usar la función"
   ]
  },
  {
   "cell_type": "code",
   "execution_count": 17,
   "metadata": {},
   "outputs": [],
   "source": [
    "def sumar_dos(número):\n",
    "    \"\"\"Suma dos al parámetro\n",
    "    \n",
    "    Parámetros\n",
    "    ----------\n",
    "    número:\n",
    "        El número dado al que se sumará 2.\n",
    "        \n",
    "    Returns\n",
    "    -------\n",
    "        Un número que es 2 mayor que la entrada original.\n",
    "        \n",
    "    Ejemplo\n",
    "    -------\n",
    "    >>> sumar_dos(4)\n",
    "    6\n",
    "    \"\"\"\n",
    "    return número + 2"
   ]
  },
  {
   "cell_type": "markdown",
   "metadata": {},
   "source": [
    "Ahora que sabes como intrepretar un docstring, que piensas que haría la función? Ejecuta las celdas debajo para probarlo:"
   ]
  },
  {
   "cell_type": "code",
   "execution_count": 18,
   "metadata": {},
   "outputs": [
    {
     "data": {
      "text/plain": [
       "5"
      ]
     },
     "execution_count": 18,
     "metadata": {},
     "output_type": "execute_result"
    }
   ],
   "source": [
    "sumar_dos(3)"
   ]
  },
  {
   "cell_type": "code",
   "execution_count": 19,
   "metadata": {},
   "outputs": [
    {
     "data": {
      "text/plain": [
       "1"
      ]
     },
     "execution_count": 19,
     "metadata": {},
     "output_type": "execute_result"
    }
   ],
   "source": [
    "sumar_dos(-1)"
   ]
  },
  {
   "cell_type": "markdown",
   "metadata": {},
   "source": [
    "Ahora miramos una función que lleva dos parámetros. La función `sumador_de_matriz` debajo toma como parámetros una matriz `m` y una matriz `n`, y suman los dos elementos juntos, regresando el resultado.\n",
    "\n",
    "**Nota:** Un **matriz** (dependiendo del dimensión) es una lista del mismo tipo de dato (típicamente números pero puede ser strings o otros objetos) separado por co\n",
    "mas. Usamos un paquete llamado `numpy` para construir matrices. Por ejemplo,` np.array([1, 2, 3, 4])` y `np.array([\"Lunes\", \"Martes\"])` son matrices (una de números y la otra de strings)."
   ]
  },
  {
   "cell_type": "code",
   "execution_count": 20,
   "metadata": {},
   "outputs": [],
   "source": [
    "# Una función que toma dos matrices, m y n, y devuelve True (Cierto) si m es un múltiplo de n. Sino devulelve False (o Falso)\n",
    "import numpy as np #ignora esta linea\n",
    "\n",
    "def sumador_de_matriz(matriz1, matriz2):\n",
    "    \"\"\"Agrega dos matrices del mismo tamaño juntas\n",
    "    \n",
    "    Parámetros\n",
    "    ----------\n",
    "    matriz1, matriz2:\n",
    "        Las dos matrices (de la misma tamaño) que se agregarán en cada posición.\n",
    "    \n",
    "    Returns\n",
    "    -------\n",
    "        Una matriz del mismo tamaño que m y n con los números enteros sumados.\n",
    "        \n",
    "    Ejemplo\n",
    "    -------\n",
    "    >>> sumador_de_matriz(np.array([2, 4, 6]), np.array([1, 3, 5]))\n",
    "    array([3, 7, 11])\n",
    "    \"\"\"\n",
    "    \n",
    "    return matriz1 + matriz2"
   ]
  },
  {
   "cell_type": "code",
   "execution_count": 21,
   "metadata": {},
   "outputs": [
    {
     "data": {
      "text/plain": [
       "array([ 6,  8, 10, 12])"
      ]
     },
     "execution_count": 21,
     "metadata": {},
     "output_type": "execute_result"
    }
   ],
   "source": [
    "m = np.array([1, 2, 3, 4])\n",
    "n = np.array([5, 6, 7, 8])\n",
    "sumador_de_matriz(m, n)"
   ]
  },
  {
   "cell_type": "markdown",
   "metadata": {},
   "source": [
    "### Entendiendo Errores\n",
    "\n",
    "Python is una lenguaje, y como lenguajes humanos naturales, tiene reglas. Se diferencia del lenguaje natural en dos aspectos importantes:\n",
    "\n",
    "1. Las reglas son simples. Puedes aprenderlos en unas pocas semanas y obtener un dominio razonable del idioma en un término.\n",
    "\n",
    "2. Las reglas son rígidas. Si eres competente con un lenguaje natural, puedes entender a un hablante no competente, pasando por unos pequeños errores. Una computadora que ejecuta código en Python no es lo suficientemente inteligente para hacer eso.\n",
    "\n",
    "Cuando estas programando, cometerás errores. Cuando ejecuta una celda de código que tiene errores, Python generalmente producirá mensajes de error para decirle qué hicistes mal.\n",
    "\n",
    "Los errores están bien; hasta los programadores expertos cometen muchos errores. Cuando cometes un error, solo tienes que encontrar la fuente del problema, solucionarlo, y seguir adelante.\n",
    "\n",
    "En la celda próxima, cometimos un error. Ejecuta la celda y mira lo que pasa."
   ]
  },
  {
   "cell_type": "code",
   "execution_count": 22,
   "metadata": {},
   "outputs": [
    {
     "ename": "SyntaxError",
     "evalue": "EOL while scanning string literal (<ipython-input-22-3140a6eae47a>, line 1)",
     "output_type": "error",
     "traceback": [
      "\u001b[0;36m  File \u001b[0;32m\"<ipython-input-22-3140a6eae47a>\"\u001b[0;36m, line \u001b[0;32m1\u001b[0m\n\u001b[0;31m    \"Esta linea falta algo.\u001b[0m\n\u001b[0m                           ^\u001b[0m\n\u001b[0;31mSyntaxError\u001b[0m\u001b[0;31m:\u001b[0m EOL while scanning string literal\n"
     ]
    }
   ],
   "source": [
    "\"Esta linea falta algo."
   ]
  },
  {
   "cell_type": "markdown",
   "metadata": {},
   "source": [
    "Arregla el error debajo:"
   ]
  },
  {
   "cell_type": "code",
   "execution_count": null,
   "metadata": {},
   "outputs": [],
   "source": [
    "#Tu respuesta aquí\n"
   ]
  },
  {
   "cell_type": "markdown",
   "metadata": {},
   "source": [
    "## Tablas"
   ]
  },
  {
   "cell_type": "markdown",
   "metadata": {},
   "source": [
    "Ahora ejecuta la cela debajo para importar unas herramientas como `numpy` que vamos usar hoy. No teo preocupes, no habrá ninguna salida."
   ]
  },
  {
   "cell_type": "code",
   "execution_count": 23,
   "metadata": {},
   "outputs": [],
   "source": [
    "import numpy as np\n",
    "import matplotlib.pyplot as plt\n",
    "from datascience import *\n",
    "%matplotlib inline \n",
    "plt.style.use(\"fivethirtyeight\")"
   ]
  },
  {
   "cell_type": "markdown",
   "metadata": {},
   "source": [
    "## Importando\n",
    "\n",
    "En el análisis de datos, la mayoría del tiempo hay un archivo deteniendo tu dado que existe. Hay millones de bases de datos en línea que contiene información en temas sobre de todos los dominios. En general, para importar un dato de un archivo, tenemos que ecribir algo así:\n",
    "\n",
    "```python\n",
    "Table.read_table(\"...la_localización_del_archivo/nombre_del_archivo\")\n",
    "```\n",
    "\n",
    "Aqui digamos al computadora \"construye una tabla de datos usando este `nombre_del_archivo` localizado en `la_localización_del_archivo`.\n",
    "\n",
    "La mayoría del tiempo, estos nombres de archivos terminan en `.csv` para datos, una forma popular para hojas de cálculo y puede ser importado o exportado de programas como Microsoft Excel, OpenOffice Calc, o Google Spreadsheets.\n",
    "\n",
    "Un ejemplo es eseñado debajo sobre [Colombianos Registrados en el Exterior](https://www.datos.gov.co/Estad-sticas-Nacionales/Colombianos-registrados-en-el-exterior/y399-rzwf) de parte de [Datos Abiertos de Colombia](https://www.datos.gov.co/):"
   ]
  },
  {
   "cell_type": "code",
   "execution_count": 24,
   "metadata": {},
   "outputs": [
    {
     "data": {
      "text/html": [
       "<table border=\"1\" class=\"dataframe\">\n",
       "    <thead>\n",
       "        <tr>\n",
       "            <th>País</th> <th>Código ISO país</th> <th>Oficina de registro</th> <th>Grupo edad</th> <th>Edad (años)</th> <th>Área Conocimiento</th> <th>Sub Area Conocimiento</th> <th>Nivel Académico</th> <th>Estado civil</th> <th>Género</th> <th>Etnia de la persona</th> <th>Estatura (CM)</th> <th>Cantidad de personas</th>\n",
       "        </tr>\n",
       "    </thead>\n",
       "    <tbody>\n",
       "        <tr>\n",
       "            <td>FRANCIA       </td> <td>FRA            </td> <td>C. PARIS           </td> <td>ADULTO      </td> <td>33         </td> <td>NO INDICA                                   </td> <td>NO INDICA                         </td> <td>BACHILLERATO                  </td> <td>SOLTERO     </td> <td>MASCULINO</td> <td>NINGUNA             </td> <td>164          </td> <td>1                   </td>\n",
       "        </tr>\n",
       "        <tr>\n",
       "            <td>ESPAÑA        </td> <td>ESP            </td> <td>C. SEVILLA         </td> <td>ADULTO MAYOR</td> <td>71         </td> <td>NO INDICA                                   </td> <td>NO INDICA                         </td> <td>PRIMARIA                      </td> <td>CASADO      </td> <td>FEMENINO </td> <td>SIN ETNIA REGISTRADA</td> <td>155          </td> <td>1                   </td>\n",
       "        </tr>\n",
       "        <tr>\n",
       "            <td>ESTADOS UNIDOS</td> <td>USA            </td> <td>C. HOUSTON         </td> <td>ADULTO      </td> <td>29         </td> <td>CIENCIAS SOCIALES Y HUMANAS                 </td> <td>PSICOLOGÍA Y AFINES               </td> <td>NO INDICA                     </td> <td>SOLTERO     </td> <td>FEMENINO </td> <td>NINGUNA             </td> <td>-1           </td> <td>1                   </td>\n",
       "        </tr>\n",
       "        <tr>\n",
       "            <td>ESTADOS UNIDOS</td> <td>USA            </td> <td>C. MIAMI           </td> <td>ADULTO      </td> <td>31         </td> <td>INGENIERÍA, ARQUITECTURA Y AFINES           </td> <td>INGENIERÍA ADMINISTRATIVA Y AFINES</td> <td>NO INDICA                     </td> <td>CASADO      </td> <td>MASCULINO</td> <td>NINGUNA             </td> <td>-1           </td> <td>1                   </td>\n",
       "        </tr>\n",
       "        <tr>\n",
       "            <td>ESTADOS UNIDOS</td> <td>USA            </td> <td>C. NEWARK          </td> <td>ADULTO      </td> <td>30         </td> <td>INGENIERÍA, ARQUITECTURA Y AFINES           </td> <td>INGENIERÍA MECÁNICA Y AFINES      </td> <td>PREGRADO - PROFESIONAL        </td> <td>SOLTERO     </td> <td>MASCULINO</td> <td>NINGUNA             </td> <td>180          </td> <td>1                   </td>\n",
       "        </tr>\n",
       "        <tr>\n",
       "            <td>ESTADOS UNIDOS</td> <td>USA            </td> <td>C. NEWARK          </td> <td>ADULTO      </td> <td>57         </td> <td>NO INDICA                                   </td> <td>NO INDICA                         </td> <td>PREGRADO - PROFESIONAL        </td> <td>SOLTERO     </td> <td>FEMENINO </td> <td>OTRO                </td> <td>-1           </td> <td>1                   </td>\n",
       "        </tr>\n",
       "        <tr>\n",
       "            <td>COSTA RICA    </td> <td>CRI            </td> <td>C. SAN JOSE        </td> <td>ADULTO      </td> <td>45         </td> <td>ECONOMÍA, ADMINISTRACIÓN CONTADURIA Y AFINES</td> <td>ADMINISTRACIÓN                    </td> <td>PREGRADO - PROFESIONAL        </td> <td>DIVORCIADO  </td> <td>FEMENINO </td> <td>NINGUNA             </td> <td>158          </td> <td>1                   </td>\n",
       "        </tr>\n",
       "        <tr>\n",
       "            <td>ESPAÑA        </td> <td>ESP            </td> <td>C. BILBAO          </td> <td>ADULTO MAYOR</td> <td>67         </td> <td>NINGUNA                                     </td> <td>NINGUNA                           </td> <td>BACHILLERATO                  </td> <td>SOLTERO     </td> <td>FEMENINO </td> <td>NINGUNA             </td> <td>160          </td> <td>1                   </td>\n",
       "        </tr>\n",
       "        <tr>\n",
       "            <td>SUIZA         </td> <td>CHE            </td> <td>C. BERNA           </td> <td>ADULTO      </td> <td>35         </td> <td>NO INDICA                                   </td> <td>NO INDICA                         </td> <td>PREGRADO - TÉCNICO PROFESIONAL</td> <td>CASADO      </td> <td>FEMENINO </td> <td>SIN ETNIA REGISTRADA</td> <td>166          </td> <td>2                   </td>\n",
       "        </tr>\n",
       "        <tr>\n",
       "            <td>ESPAÑA        </td> <td>ESP            </td> <td>C. MADRID          </td> <td>ADULTO      </td> <td>53         </td> <td>ECONOMÍA, ADMINISTRACIÓN CONTADURIA Y AFINES</td> <td>ADMINISTRACIÓN                    </td> <td>NO INDICA                     </td> <td>SOLTERO     </td> <td>FEMENINO </td> <td>OTRO                </td> <td>-1           </td> <td>4                   </td>\n",
       "        </tr>\n",
       "    </tbody>\n",
       "</table>\n",
       "<p>... (136368 rows omitted)</p>"
      ],
      "text/plain": [
       "País           | Código ISO país | Oficina de registro | Grupo edad   | Edad (años) | Área Conocimiento                            | Sub Area Conocimiento              | Nivel Académico                | Estado civil | Género    | Etnia de la persona  | Estatura (CM) | Cantidad de personas\n",
       "FRANCIA        | FRA             | C. PARIS            | ADULTO       | 33          | NO INDICA                                    | NO INDICA                          | BACHILLERATO                   | SOLTERO      | MASCULINO | NINGUNA              | 164           | 1\n",
       "ESPAÑA         | ESP             | C. SEVILLA          | ADULTO MAYOR | 71          | NO INDICA                                    | NO INDICA                          | PRIMARIA                       | CASADO       | FEMENINO  | SIN ETNIA REGISTRADA | 155           | 1\n",
       "ESTADOS UNIDOS | USA             | C. HOUSTON          | ADULTO       | 29          | CIENCIAS SOCIALES Y HUMANAS                  | PSICOLOGÍA Y AFINES                | NO INDICA                      | SOLTERO      | FEMENINO  | NINGUNA              | -1            | 1\n",
       "ESTADOS UNIDOS | USA             | C. MIAMI            | ADULTO       | 31          | INGENIERÍA, ARQUITECTURA Y AFINES            | INGENIERÍA ADMINISTRATIVA Y AFINES | NO INDICA                      | CASADO       | MASCULINO | NINGUNA              | -1            | 1\n",
       "ESTADOS UNIDOS | USA             | C. NEWARK           | ADULTO       | 30          | INGENIERÍA, ARQUITECTURA Y AFINES            | INGENIERÍA MECÁNICA Y AFINES       | PREGRADO - PROFESIONAL         | SOLTERO      | MASCULINO | NINGUNA              | 180           | 1\n",
       "ESTADOS UNIDOS | USA             | C. NEWARK           | ADULTO       | 57          | NO INDICA                                    | NO INDICA                          | PREGRADO - PROFESIONAL         | SOLTERO      | FEMENINO  | OTRO                 | -1            | 1\n",
       "COSTA RICA     | CRI             | C. SAN JOSE         | ADULTO       | 45          | ECONOMÍA, ADMINISTRACIÓN CONTADURIA Y AFINES | ADMINISTRACIÓN                     | PREGRADO - PROFESIONAL         | DIVORCIADO   | FEMENINO  | NINGUNA              | 158           | 1\n",
       "ESPAÑA         | ESP             | C. BILBAO           | ADULTO MAYOR | 67          | NINGUNA                                      | NINGUNA                            | BACHILLERATO                   | SOLTERO      | FEMENINO  | NINGUNA              | 160           | 1\n",
       "SUIZA          | CHE             | C. BERNA            | ADULTO       | 35          | NO INDICA                                    | NO INDICA                          | PREGRADO - TÉCNICO PROFESIONAL | CASADO       | FEMENINO  | SIN ETNIA REGISTRADA | 166           | 2\n",
       "ESPAÑA         | ESP             | C. MADRID           | ADULTO       | 53          | ECONOMÍA, ADMINISTRACIÓN CONTADURIA Y AFINES | ADMINISTRACIÓN                     | NO INDICA                      | SOLTERO      | FEMENINO  | OTRO                 | -1            | 4\n",
       "... (136368 rows omitted)"
      ]
     },
     "execution_count": 24,
     "metadata": {},
     "output_type": "execute_result"
    }
   ],
   "source": [
    "Table.read_table(\"datos/colombianos_registrados.csv\")"
   ]
  },
  {
   "cell_type": "code",
   "execution_count": null,
   "metadata": {},
   "outputs": [],
   "source": []
  },
  {
   "cell_type": "code",
   "execution_count": null,
   "metadata": {},
   "outputs": [],
   "source": []
  },
  {
   "cell_type": "code",
   "execution_count": null,
   "metadata": {},
   "outputs": [],
   "source": []
  },
  {
   "cell_type": "code",
   "execution_count": null,
   "metadata": {},
   "outputs": [],
   "source": []
  },
  {
   "cell_type": "code",
   "execution_count": null,
   "metadata": {},
   "outputs": [],
   "source": []
  },
  {
   "cell_type": "code",
   "execution_count": null,
   "metadata": {},
   "outputs": [],
   "source": []
  },
  {
   "cell_type": "code",
   "execution_count": null,
   "metadata": {},
   "outputs": [],
   "source": []
  },
  {
   "cell_type": "code",
   "execution_count": null,
   "metadata": {},
   "outputs": [],
   "source": []
  },
  {
   "cell_type": "code",
   "execution_count": null,
   "metadata": {},
   "outputs": [],
   "source": []
  },
  {
   "cell_type": "code",
   "execution_count": null,
   "metadata": {},
   "outputs": [],
   "source": []
  },
  {
   "cell_type": "code",
   "execution_count": null,
   "metadata": {},
   "outputs": [],
   "source": []
  },
  {
   "cell_type": "code",
   "execution_count": null,
   "metadata": {},
   "outputs": [],
   "source": []
  },
  {
   "cell_type": "code",
   "execution_count": null,
   "metadata": {},
   "outputs": [],
   "source": []
  },
  {
   "cell_type": "code",
   "execution_count": null,
   "metadata": {},
   "outputs": [],
   "source": []
  },
  {
   "cell_type": "code",
   "execution_count": null,
   "metadata": {},
   "outputs": [],
   "source": []
  },
  {
   "cell_type": "code",
   "execution_count": null,
   "metadata": {},
   "outputs": [],
   "source": []
  }
 ],
 "metadata": {
  "kernelspec": {
   "display_name": "Python 3",
   "language": "python",
   "name": "python3"
  },
  "language_info": {
   "codemirror_mode": {
    "name": "ipython",
    "version": 3
   },
   "file_extension": ".py",
   "mimetype": "text/x-python",
   "name": "python",
   "nbconvert_exporter": "python",
   "pygments_lexer": "ipython3",
   "version": "3.8.8"
  }
 },
 "nbformat": 4,
 "nbformat_minor": 4
}
